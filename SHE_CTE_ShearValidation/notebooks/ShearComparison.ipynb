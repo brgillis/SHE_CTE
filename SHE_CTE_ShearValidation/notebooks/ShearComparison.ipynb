{
 "cells": [
  {
   "cell_type": "code",
   "execution_count": null,
   "metadata": {},
   "outputs": [],
   "source": [
    "# General imports\n",
    "import os\n",
    "import glob\n",
    "import healpy\n",
    "import numpy as np\n",
    "import matplotlib.pyplot as plt\n",
    "from astropy.io import fits\n",
    "from astropy.io.fits.header import Header\n",
    "from astropy.table import Table, Column, vstack\n",
    "\n",
    "# SHE_PPT imports\n",
    "from SHE_PPT import products\n",
    "from SHE_PPT import file_io\n",
    "from SHE_PPT.table_formats.shear_estimates import tf as setf\n",
    "\n",
    "# Make the plots interactive\n",
    "%matplotlib notebook"
   ]
  },
  {
   "cell_type": "code",
   "execution_count": null,
   "metadata": {},
   "outputs": [],
   "source": [
    "def select_true_universe_sources(catalog_file_names, ra_range, dec_range):\n",
    "    \"\"\" Loads all the True Universe catalog files and selects only those\n",
    "    sources that fall inside the specified (RA, Dec) region.\n",
    "\n",
    "    \"\"\"\n",
    "    # Loop over the True Universe catalog files and select the relevant sources\n",
    "    merged_catalog = None\n",
    "\n",
    "    for file_name in catalog_file_names:\n",
    "        # Load the catalog table\n",
    "        catalog = Table.read(file_name, format=\"fits\")\n",
    "\n",
    "        # Get the (RA, Dec) columns\n",
    "        ra = catalog[\"ra_mag\"] if \"ra_mag\" in catalog.colnames else catalog[\"RA\"]\n",
    "        dec = catalog[\"dec_mag\"] if \"dec_mag\" in catalog.colnames else catalog[\"DEC\"]\n",
    "\n",
    "        # Check which sources fall inside the given (RA, Dec) ranges\n",
    "        cond_ra = np.logical_and(ra > ra_range[0], ra < ra_range[1])\n",
    "        cond_dec = np.logical_and(dec > dec_range[0], dec < dec_range[1])\n",
    "        cond = np.logical_and(cond_ra, cond_dec)\n",
    "\n",
    "        if np.any(cond):\n",
    "            # Add the selected sources to the merged catalog\n",
    "            if merged_catalog is None:\n",
    "                merged_catalog = catalog[cond]\n",
    "            else:\n",
    "                merged_catalog = vstack([merged_catalog, catalog[cond]])\n",
    "\n",
    "    return merged_catalog"
   ]
  },
  {
   "cell_type": "code",
   "execution_count": null,
   "metadata": {},
   "outputs": [],
   "source": [
    "# Get the True Universe star and galaxy catalog file names\n",
    "\n",
    "star_catalog_product_filename = \"/mnt/cephfs/share/SC456/SIM-VIS/vis_science_T11/StarCatT11.xml\"\n",
    "galaxy_catalog_product_filename = \"/mnt/cephfs/share/SC456/SIM-VIS/vis_science_T11/GalCatT11.xml\"\n",
    "\n",
    "star_catalog_file_names = file_io.read_xml_product(star_catalog_product_filename).get_data_filenames()\n",
    "galaxy_catalog_file_names = file_io.read_xml_product(galaxy_catalog_product_filename).get_data_filenames()"
   ]
  },
  {
   "cell_type": "code",
   "execution_count": null,
   "metadata": {},
   "outputs": [],
   "source": [
    "# Set the metadata about this batch\n",
    "field_number = 52929\n",
    "batch_number = 0"
   ]
  },
  {
   "cell_type": "code",
   "execution_count": null,
   "metadata": {},
   "outputs": [],
   "source": [
    "# Set the path to the working directory\n",
    "workdir = \"/mnt/cephfs/brg/sc4-workdir\"\n",
    "\n",
    "shear_estimates_product = file_io.read_xml_product(os.path.join(workdir,\n",
    "                                                                \"combined_shear_estimates.xml\"))"
   ]
  },
  {
   "cell_type": "code",
   "execution_count": null,
   "metadata": {},
   "outputs": [],
   "source": [
    "# Load the tables for each shear estimation method\n",
    "\n",
    "methods = (\"BFD\",\"KSB\",\"LensMC\",\"MomentsML\",\"REGAUSS\")\n",
    "shear_tables = {}\n",
    "\n",
    "for method in methods:\n",
    "    fn = shear_estimates_product.get_method_filename(method)\n",
    "    if fn is None:\n",
    "        shear_tables[method] = None\n",
    "    else:\n",
    "        shear_tables[method] = Table.read(os.path.join(workdir,fn))"
   ]
  },
  {
   "cell_type": "code",
   "execution_count": null,
   "metadata": {},
   "outputs": [],
   "source": [
    "# Determine the ra/dec range covered by this file\n",
    "\n",
    "ra_range = np.array((1e99,-1e99))\n",
    "dec_range = np.array((1e99,-1e99))\n",
    "\n",
    "for method in methods:\n",
    "    shear_table = shear_tables[method]\n",
    "    if shear_table is None:\n",
    "        continue\n",
    "    ra_col = shear_table[setf.x_world]\n",
    "    dec_col = shear_table[setf.x_world]\n",
    "    \n",
    "    ra_range[0] = np.min((ra_range[0],np.min(ra_col.data)))\n",
    "    ra_range[1] = np.max((ra_range[1],np.max(ra_col.data)))\n",
    "    \n",
    "    dec_range[0] = np.min((dec_range[0],np.min(dec_col.data)))\n",
    "    dec_range[1] = np.max((dec_range[1],np.max(dec_col.data)))\n",
    "    \n",
    "if ra_range[1]<ra_range[0] or dec_range[1]<dec_range[0]:\n",
    "    raise ValueError(\"Invalid range\")"
   ]
  },
  {
   "cell_type": "code",
   "execution_count": null,
   "metadata": {},
   "outputs": [],
   "source": [
    "# Select only those TU sources that fall inside range\n",
    "star_catalog = select_true_universe_sources(star_catalog_file_names, ra_range, dec_range)\n",
    "galaxy_catalog = select_true_universe_sources(galaxy_catalog_file_names, ra_range, dec_range)\n",
    "\n",
    "# Save the True Universe catalogs in the work directory\n",
    "star_catalog.write(os.path.join(workdir, \"tu_star_catalog_v7_batch_%s.fits\" % batch_number), format=\"fits\", overwrite=True)\n",
    "galaxy_catalog.write(os.path.join(workdir, \"tu_galaxy_catalog_v8p1_batch_%s.fits\" % batch_number), format=\"fits\", overwrite=True)"
   ]
  },
  {
   "cell_type": "code",
   "execution_count": null,
   "metadata": {},
   "outputs": [],
   "source": [
    "\n",
    "\n",
    "# Plot the True Universe star positions and the MER detected sources on top of the mosaic image\n",
    "plt.figure()\n",
    "plt.imshow(mosaic_data, origin=\"lower\", vmin=vmin, vmax=vmax)\n",
    "plt.colorbar()\n",
    "plt.gca().set_xlim(auto=False)\n",
    "plt.gca().set_ylim(auto=False)\n",
    "plt.plot(star_catalog[\"MOSAIC_X\"] - 1, star_catalog[\"MOSAIC_Y\"] - 1, \"r.\", markersize=4)\n",
    "plt.plot(catalog[\"MOSAIC_X\"][to_plot] - 1, catalog[\"MOSAIC_Y\"][to_plot] - 1, \"ro\", markersize=7, fillstyle=\"none\")\n",
    "plt.title(\"%s mosaic\" % mosaic_xml.get_filter())\n",
    "plt.xlabel(\"x (pixels)\")\n",
    "plt.ylabel(\"y (pixels)\")\n",
    "plt.show()"
   ]
  }
 ],
 "metadata": {
  "kernelspec": {
   "display_name": "Python 3",
   "language": "python",
   "name": "python3"
  },
  "language_info": {
   "codemirror_mode": {
    "name": "ipython",
    "version": 3
   },
   "file_extension": ".py",
   "mimetype": "text/x-python",
   "name": "python",
   "nbconvert_exporter": "python",
   "pygments_lexer": "ipython3",
   "version": "3.6.2"
  }
 },
 "nbformat": 4,
 "nbformat_minor": 2
}
